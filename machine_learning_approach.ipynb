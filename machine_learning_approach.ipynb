{
  "nbformat": 4,
  "nbformat_minor": 0,
  "metadata": {
    "kernelspec": {
      "display_name": "Python 3",
      "language": "python",
      "name": "python3"
    },
    "language_info": {
      "codemirror_mode": {
        "name": "ipython",
        "version": 3
      },
      "file_extension": ".py",
      "mimetype": "text/x-python",
      "name": "python",
      "nbconvert_exporter": "python",
      "pygments_lexer": "ipython3",
      "version": "3.7.9"
    },
    "papermill": {
      "default_parameters": {},
      "duration": 565.856184,
      "end_time": "2021-03-01T19:17:05.796650",
      "environment_variables": {},
      "exception": null,
      "input_path": "__notebook__.ipynb",
      "output_path": "__notebook__.ipynb",
      "parameters": {},
      "start_time": "2021-03-01T19:07:39.940466",
      "version": "2.2.2"
    },
    "colab": {
      "name": "machine-learning-approach.ipynb",
      "provenance": []
    }
  },
  "cells": [
    {
      "cell_type": "code",
      "metadata": {
        "_cell_guid": "b1076dfc-b9ad-4769-8c92-a6c4dae69d19",
        "_uuid": "8f2839f25d086af736a60e9eeb907d3b93b6e0e5",
        "execution": {
          "iopub.execute_input": "2021-03-01T19:07:44.538888Z",
          "iopub.status.busy": "2021-03-01T19:07:44.538135Z",
          "iopub.status.idle": "2021-03-01T19:07:45.964361Z",
          "shell.execute_reply": "2021-03-01T19:07:45.963212Z"
        },
        "papermill": {
          "duration": 1.45082,
          "end_time": "2021-03-01T19:07:45.964579",
          "exception": false,
          "start_time": "2021-03-01T19:07:44.513759",
          "status": "completed"
        },
        "tags": [],
        "id": "laX85Ie_VFcW"
      },
      "source": [
        "\n",
        "%matplotlib inline\n",
        "import re\n",
        "import matplotlib\n",
        "import numpy as np\n",
        "import matplotlib.pyplot as plt\n",
        "import pandas as pd\n",
        "from sklearn.model_selection import train_test_split\n",
        "from sklearn.feature_extraction.text import TfidfVectorizer\n",
        "from sklearn.naive_bayes import MultinomialNB\n",
        "from sklearn.metrics import accuracy_score\n",
        "from sklearn.multiclass import OneVsRestClassifier\n",
        "from nltk.corpus import stopwords\n",
        "stop_words = set(stopwords.words('english'))\n",
        "from sklearn.svm import LinearSVC\n",
        "from sklearn.linear_model import LogisticRegression\n",
        "from sklearn.pipeline import Pipeline\n",
        "import seaborn as sns"
      ],
      "execution_count": null,
      "outputs": []
    },
    {
      "cell_type": "code",
      "metadata": {
        "execution": {
          "iopub.execute_input": "2021-03-01T19:07:46.010283Z",
          "iopub.status.busy": "2021-03-01T19:07:46.009751Z",
          "iopub.status.idle": "2021-03-01T19:07:47.678565Z",
          "shell.execute_reply": "2021-03-01T19:07:47.677929Z"
        },
        "papermill": {
          "duration": 1.700144,
          "end_time": "2021-03-01T19:07:47.678703",
          "exception": false,
          "start_time": "2021-03-01T19:07:45.978559",
          "status": "completed"
        },
        "tags": [],
        "id": "52YArlrGVFcd"
      },
      "source": [
        "df = pd.read_csv(\"../input/nlp-coursework/1613373921-5e748a2d5fc288e9f69c5f86.csv\")"
      ],
      "execution_count": null,
      "outputs": []
    },
    {
      "cell_type": "code",
      "metadata": {
        "execution": {
          "iopub.execute_input": "2021-03-01T19:07:47.715243Z",
          "iopub.status.busy": "2021-03-01T19:07:47.713646Z",
          "iopub.status.idle": "2021-03-01T19:07:47.715858Z",
          "shell.execute_reply": "2021-03-01T19:07:47.716242Z"
        },
        "papermill": {
          "duration": 0.021268,
          "end_time": "2021-03-01T19:07:47.716370",
          "exception": false,
          "start_time": "2021-03-01T19:07:47.695102",
          "status": "completed"
        },
        "tags": [],
        "id": "UdBKizbCVFcd"
      },
      "source": [
        "label_cols = ['toxic', 'severe_toxic', 'obscene', 'threat', 'insult', 'identity_hate']"
      ],
      "execution_count": null,
      "outputs": []
    },
    {
      "cell_type": "code",
      "metadata": {
        "execution": {
          "iopub.execute_input": "2021-03-01T19:07:47.759409Z",
          "iopub.status.busy": "2021-03-01T19:07:47.758497Z",
          "iopub.status.idle": "2021-03-01T19:07:47.837511Z",
          "shell.execute_reply": "2021-03-01T19:07:47.836987Z"
        },
        "papermill": {
          "duration": 0.107119,
          "end_time": "2021-03-01T19:07:47.837661",
          "exception": false,
          "start_time": "2021-03-01T19:07:47.730542",
          "status": "completed"
        },
        "tags": [],
        "id": "916i92ABVFce",
        "outputId": "f501d392-2484-4dc8-e227-52d3268d2187"
      },
      "source": [
        "df['none'] = 1-df[label_cols].max(axis=1)\n",
        "df.describe()"
      ],
      "execution_count": null,
      "outputs": [
        {
          "output_type": "execute_result",
          "data": {
            "text/html": [
              "<div>\n",
              "<style scoped>\n",
              "    .dataframe tbody tr th:only-of-type {\n",
              "        vertical-align: middle;\n",
              "    }\n",
              "\n",
              "    .dataframe tbody tr th {\n",
              "        vertical-align: top;\n",
              "    }\n",
              "\n",
              "    .dataframe thead th {\n",
              "        text-align: right;\n",
              "    }\n",
              "</style>\n",
              "<table border=\"1\" class=\"dataframe\">\n",
              "  <thead>\n",
              "    <tr style=\"text-align: right;\">\n",
              "      <th></th>\n",
              "      <th>toxic</th>\n",
              "      <th>severe_toxic</th>\n",
              "      <th>obscene</th>\n",
              "      <th>threat</th>\n",
              "      <th>insult</th>\n",
              "      <th>identity_hate</th>\n",
              "      <th>none</th>\n",
              "    </tr>\n",
              "  </thead>\n",
              "  <tbody>\n",
              "    <tr>\n",
              "      <th>count</th>\n",
              "      <td>159571.000000</td>\n",
              "      <td>159571.000000</td>\n",
              "      <td>159571.000000</td>\n",
              "      <td>159571.000000</td>\n",
              "      <td>159571.000000</td>\n",
              "      <td>159571.000000</td>\n",
              "      <td>159571.000000</td>\n",
              "    </tr>\n",
              "    <tr>\n",
              "      <th>mean</th>\n",
              "      <td>0.095844</td>\n",
              "      <td>0.009996</td>\n",
              "      <td>0.052948</td>\n",
              "      <td>0.002996</td>\n",
              "      <td>0.049364</td>\n",
              "      <td>0.008805</td>\n",
              "      <td>0.898321</td>\n",
              "    </tr>\n",
              "    <tr>\n",
              "      <th>std</th>\n",
              "      <td>0.294379</td>\n",
              "      <td>0.099477</td>\n",
              "      <td>0.223931</td>\n",
              "      <td>0.054650</td>\n",
              "      <td>0.216627</td>\n",
              "      <td>0.093420</td>\n",
              "      <td>0.302226</td>\n",
              "    </tr>\n",
              "    <tr>\n",
              "      <th>min</th>\n",
              "      <td>0.000000</td>\n",
              "      <td>0.000000</td>\n",
              "      <td>0.000000</td>\n",
              "      <td>0.000000</td>\n",
              "      <td>0.000000</td>\n",
              "      <td>0.000000</td>\n",
              "      <td>0.000000</td>\n",
              "    </tr>\n",
              "    <tr>\n",
              "      <th>25%</th>\n",
              "      <td>0.000000</td>\n",
              "      <td>0.000000</td>\n",
              "      <td>0.000000</td>\n",
              "      <td>0.000000</td>\n",
              "      <td>0.000000</td>\n",
              "      <td>0.000000</td>\n",
              "      <td>1.000000</td>\n",
              "    </tr>\n",
              "    <tr>\n",
              "      <th>50%</th>\n",
              "      <td>0.000000</td>\n",
              "      <td>0.000000</td>\n",
              "      <td>0.000000</td>\n",
              "      <td>0.000000</td>\n",
              "      <td>0.000000</td>\n",
              "      <td>0.000000</td>\n",
              "      <td>1.000000</td>\n",
              "    </tr>\n",
              "    <tr>\n",
              "      <th>75%</th>\n",
              "      <td>0.000000</td>\n",
              "      <td>0.000000</td>\n",
              "      <td>0.000000</td>\n",
              "      <td>0.000000</td>\n",
              "      <td>0.000000</td>\n",
              "      <td>0.000000</td>\n",
              "      <td>1.000000</td>\n",
              "    </tr>\n",
              "    <tr>\n",
              "      <th>max</th>\n",
              "      <td>1.000000</td>\n",
              "      <td>1.000000</td>\n",
              "      <td>1.000000</td>\n",
              "      <td>1.000000</td>\n",
              "      <td>1.000000</td>\n",
              "      <td>1.000000</td>\n",
              "      <td>1.000000</td>\n",
              "    </tr>\n",
              "  </tbody>\n",
              "</table>\n",
              "</div>"
            ],
            "text/plain": [
              "               toxic   severe_toxic        obscene         threat  \\\n",
              "count  159571.000000  159571.000000  159571.000000  159571.000000   \n",
              "mean        0.095844       0.009996       0.052948       0.002996   \n",
              "std         0.294379       0.099477       0.223931       0.054650   \n",
              "min         0.000000       0.000000       0.000000       0.000000   \n",
              "25%         0.000000       0.000000       0.000000       0.000000   \n",
              "50%         0.000000       0.000000       0.000000       0.000000   \n",
              "75%         0.000000       0.000000       0.000000       0.000000   \n",
              "max         1.000000       1.000000       1.000000       1.000000   \n",
              "\n",
              "              insult  identity_hate           none  \n",
              "count  159571.000000  159571.000000  159571.000000  \n",
              "mean        0.049364       0.008805       0.898321  \n",
              "std         0.216627       0.093420       0.302226  \n",
              "min         0.000000       0.000000       0.000000  \n",
              "25%         0.000000       0.000000       1.000000  \n",
              "50%         0.000000       0.000000       1.000000  \n",
              "75%         0.000000       0.000000       1.000000  \n",
              "max         1.000000       1.000000       1.000000  "
            ]
          },
          "metadata": {
            "tags": []
          },
          "execution_count": 4
        }
      ]
    },
    {
      "cell_type": "code",
      "metadata": {
        "execution": {
          "iopub.execute_input": "2021-03-01T19:07:47.878914Z",
          "iopub.status.busy": "2021-03-01T19:07:47.878007Z",
          "iopub.status.idle": "2021-03-01T19:07:47.890697Z",
          "shell.execute_reply": "2021-03-01T19:07:47.891102Z"
        },
        "papermill": {
          "duration": 0.036828,
          "end_time": "2021-03-01T19:07:47.891252",
          "exception": false,
          "start_time": "2021-03-01T19:07:47.854424",
          "status": "completed"
        },
        "tags": [],
        "id": "fEnc3ZGDVFcf",
        "outputId": "3472b073-a854-47cd-d6ff-f0bfa9757e5a"
      },
      "source": [
        "df_toxic = df.drop(['id', 'comment_text'], axis=1)\n",
        "counts = []\n",
        "categories = list(df_toxic.columns.values)\n",
        "for i in categories:\n",
        "    counts.append((i, df_toxic[i].sum()))\n",
        "df_stats = pd.DataFrame(counts, columns=['category', 'number_of_comments'])\n",
        "df_stats"
      ],
      "execution_count": null,
      "outputs": [
        {
          "output_type": "execute_result",
          "data": {
            "text/html": [
              "<div>\n",
              "<style scoped>\n",
              "    .dataframe tbody tr th:only-of-type {\n",
              "        vertical-align: middle;\n",
              "    }\n",
              "\n",
              "    .dataframe tbody tr th {\n",
              "        vertical-align: top;\n",
              "    }\n",
              "\n",
              "    .dataframe thead th {\n",
              "        text-align: right;\n",
              "    }\n",
              "</style>\n",
              "<table border=\"1\" class=\"dataframe\">\n",
              "  <thead>\n",
              "    <tr style=\"text-align: right;\">\n",
              "      <th></th>\n",
              "      <th>category</th>\n",
              "      <th>number_of_comments</th>\n",
              "    </tr>\n",
              "  </thead>\n",
              "  <tbody>\n",
              "    <tr>\n",
              "      <th>0</th>\n",
              "      <td>toxic</td>\n",
              "      <td>15294</td>\n",
              "    </tr>\n",
              "    <tr>\n",
              "      <th>1</th>\n",
              "      <td>severe_toxic</td>\n",
              "      <td>1595</td>\n",
              "    </tr>\n",
              "    <tr>\n",
              "      <th>2</th>\n",
              "      <td>obscene</td>\n",
              "      <td>8449</td>\n",
              "    </tr>\n",
              "    <tr>\n",
              "      <th>3</th>\n",
              "      <td>threat</td>\n",
              "      <td>478</td>\n",
              "    </tr>\n",
              "    <tr>\n",
              "      <th>4</th>\n",
              "      <td>insult</td>\n",
              "      <td>7877</td>\n",
              "    </tr>\n",
              "    <tr>\n",
              "      <th>5</th>\n",
              "      <td>identity_hate</td>\n",
              "      <td>1405</td>\n",
              "    </tr>\n",
              "    <tr>\n",
              "      <th>6</th>\n",
              "      <td>none</td>\n",
              "      <td>143346</td>\n",
              "    </tr>\n",
              "  </tbody>\n",
              "</table>\n",
              "</div>"
            ],
            "text/plain": [
              "        category  number_of_comments\n",
              "0          toxic               15294\n",
              "1   severe_toxic                1595\n",
              "2        obscene                8449\n",
              "3         threat                 478\n",
              "4         insult                7877\n",
              "5  identity_hate                1405\n",
              "6           none              143346"
            ]
          },
          "metadata": {
            "tags": []
          },
          "execution_count": 5
        }
      ]
    },
    {
      "cell_type": "code",
      "metadata": {
        "execution": {
          "iopub.execute_input": "2021-03-01T19:07:47.927623Z",
          "iopub.status.busy": "2021-03-01T19:07:47.926853Z",
          "iopub.status.idle": "2021-03-01T19:07:48.119165Z",
          "shell.execute_reply": "2021-03-01T19:07:48.119600Z"
        },
        "papermill": {
          "duration": 0.212983,
          "end_time": "2021-03-01T19:07:48.119755",
          "exception": false,
          "start_time": "2021-03-01T19:07:47.906772",
          "status": "completed"
        },
        "tags": [],
        "id": "-rZWt1kuVFcf",
        "outputId": "fa428235-5991-4bbe-90fe-c9754dd6dc19"
      },
      "source": [
        "df_stats.plot(x='category', y='number_of_comments', kind='bar', legend=False, grid=True, figsize=(8, 5))\n",
        "plt.title(\"Number of comments per category\")\n",
        "plt.ylabel('# of Occurrences', fontsize=12)\n",
        "plt.xlabel('category', fontsize=12)"
      ],
      "execution_count": null,
      "outputs": [
        {
          "output_type": "execute_result",
          "data": {
            "text/plain": [
              "Text(0.5, 0, 'category')"
            ]
          },
          "metadata": {
            "tags": []
          },
          "execution_count": 6
        },
        {
          "output_type": "display_data",
          "data": {
            "image/png": "[encoded data removed]",
            "text/plain": [
              "<Figure size 576x360 with 1 Axes>"
            ]
          },
          "metadata": {
            "tags": [],
            "needs_background": "light"
          }
        }
      ]
    },
    {
      "cell_type": "code",
      "metadata": {
        "execution": {
          "iopub.execute_input": "2021-03-01T19:07:48.163391Z",
          "iopub.status.busy": "2021-03-01T19:07:48.162593Z",
          "iopub.status.idle": "2021-03-01T19:07:48.346494Z",
          "shell.execute_reply": "2021-03-01T19:07:48.345984Z"
        },
        "papermill": {
          "duration": 0.209766,
          "end_time": "2021-03-01T19:07:48.346639",
          "exception": false,
          "start_time": "2021-03-01T19:07:48.136873",
          "status": "completed"
        },
        "tags": [],
        "id": "8EKNcFyGVFcg",
        "outputId": "0cd47f92-ab75-4345-d070-620cef4e6c5f"
      },
      "source": [
        "rowsums = df.iloc[:,2:].sum(axis=1)\n",
        "x=rowsums.value_counts()\n",
        "\n",
        "#plot\n",
        "plt.figure(figsize=(8,5))\n",
        "ax = sns.barplot(x.index, x.values)\n",
        "plt.title(\"Multiple categories per comment\")\n",
        "plt.ylabel('# of Occurrences', fontsize=12)\n",
        "plt.xlabel('# of categories', fontsize=12)"
      ],
      "execution_count": null,
      "outputs": [
        {
          "output_type": "stream",
          "text": [
            "/opt/conda/lib/python3.7/site-packages/seaborn/_decorators.py:43: FutureWarning: Pass the following variables as keyword args: x, y. From version 0.12, the only valid positional argument will be `data`, and passing other arguments without an explicit keyword will result in an error or misinterpretation.\n",
            "  FutureWarning\n"
          ],
          "name": "stderr"
        },
        {
          "output_type": "execute_result",
          "data": {
            "text/plain": [
              "Text(0.5, 0, '# of categories')"
            ]
          },
          "metadata": {
            "tags": []
          },
          "execution_count": 7
        },
        {
          "output_type": "display_data",
          "data": {
            "image/png": "[encoded data removed]",
            "text/plain": [
              "<Figure size 576x360 with 1 Axes>"
            ]
          },
          "metadata": {
            "tags": [],
            "needs_background": "light"
          }
        }
      ]
    },
    {
      "cell_type": "code",
      "metadata": {
        "execution": {
          "iopub.execute_input": "2021-03-01T19:07:48.437729Z",
          "iopub.status.busy": "2021-03-01T19:07:48.410888Z",
          "iopub.status.idle": "2021-03-01T19:07:48.789015Z",
          "shell.execute_reply": "2021-03-01T19:07:48.789470Z"
        },
        "papermill": {
          "duration": 0.423698,
          "end_time": "2021-03-01T19:07:48.789634",
          "exception": false,
          "start_time": "2021-03-01T19:07:48.365936",
          "status": "completed"
        },
        "tags": [],
        "id": "M2SSWsMpVFcg",
        "outputId": "0b72a1b1-830f-4f7f-b515-64660c80e294"
      },
      "source": [
        "lens = df.comment_text.str.len()\n",
        "lens.hist(bins = np.arange(0,5000,50))"
      ],
      "execution_count": null,
      "outputs": [
        {
          "output_type": "execute_result",
          "data": {
            "text/plain": [
              "<AxesSubplot:>"
            ]
          },
          "metadata": {
            "tags": []
          },
          "execution_count": 8
        },
        {
          "output_type": "display_data",
          "data": {
            "image/png": "[encoded data removed]",
            "text/plain": [
              "<Figure size 432x288 with 1 Axes>"
            ]
          },
          "metadata": {
            "tags": [],
            "needs_background": "light"
          }
        }
      ]
    },
    {
      "cell_type": "code",
      "metadata": {
        "execution": {
          "iopub.execute_input": "2021-03-01T19:07:48.836387Z",
          "iopub.status.busy": "2021-03-01T19:07:48.835565Z",
          "iopub.status.idle": "2021-03-01T19:07:48.869494Z",
          "shell.execute_reply": "2021-03-01T19:07:48.869930Z"
        },
        "papermill": {
          "duration": 0.061355,
          "end_time": "2021-03-01T19:07:48.870081",
          "exception": false,
          "start_time": "2021-03-01T19:07:48.808726",
          "status": "completed"
        },
        "tags": [],
        "id": "XFC8-ehPVFch",
        "outputId": "3ba3b24d-6219-45ac-cacb-e1f9f4a2f257"
      },
      "source": [
        "print('Number of missing comments in comment text:')\n",
        "df['comment_text'].isnull().sum()"
      ],
      "execution_count": null,
      "outputs": [
        {
          "output_type": "stream",
          "text": [
            "Number of missing comments in comment text:\n"
          ],
          "name": "stdout"
        },
        {
          "output_type": "execute_result",
          "data": {
            "text/plain": [
              "0"
            ]
          },
          "metadata": {
            "tags": []
          },
          "execution_count": 9
        }
      ]
    },
    {
      "cell_type": "code",
      "metadata": {
        "execution": {
          "iopub.execute_input": "2021-03-01T19:07:48.914320Z",
          "iopub.status.busy": "2021-03-01T19:07:48.913646Z",
          "iopub.status.idle": "2021-03-01T19:07:48.917013Z",
          "shell.execute_reply": "2021-03-01T19:07:48.917407Z"
        },
        "papermill": {
          "duration": 0.028348,
          "end_time": "2021-03-01T19:07:48.917561",
          "exception": false,
          "start_time": "2021-03-01T19:07:48.889213",
          "status": "completed"
        },
        "tags": [],
        "id": "xLUrGoIlVFch",
        "outputId": "9ce4a2ce-1774-4547-c59d-36d837427785"
      },
      "source": [
        "df['comment_text'][0]"
      ],
      "execution_count": null,
      "outputs": [
        {
          "output_type": "execute_result",
          "data": {
            "text/plain": [
              "\"Explanation\\nWhy the edits made under my username Hardcore Metallica Fan were reverted? They weren't vandalisms, just closure on some GAs after I voted at New York Dolls FAC. And please don't remove the template from the talk page since I'm retired now.89.205.38.27\""
            ]
          },
          "metadata": {
            "tags": []
          },
          "execution_count": 10
        }
      ]
    },
    {
      "cell_type": "code",
      "metadata": {
        "execution": {
          "iopub.execute_input": "2021-03-01T19:07:48.960482Z",
          "iopub.status.busy": "2021-03-01T19:07:48.959919Z",
          "iopub.status.idle": "2021-03-01T19:07:48.964096Z",
          "shell.execute_reply": "2021-03-01T19:07:48.963658Z"
        },
        "papermill": {
          "duration": 0.02736,
          "end_time": "2021-03-01T19:07:48.964230",
          "exception": false,
          "start_time": "2021-03-01T19:07:48.936870",
          "status": "completed"
        },
        "tags": [],
        "id": "JonSxeCkVFch"
      },
      "source": [
        "categories = ['toxic', 'severe_toxic', 'obscene', 'threat', 'insult', 'identity_hate','none']"
      ],
      "execution_count": null,
      "outputs": []
    },
    {
      "cell_type": "code",
      "metadata": {
        "execution": {
          "iopub.execute_input": "2021-03-01T19:07:49.012170Z",
          "iopub.status.busy": "2021-03-01T19:07:49.010286Z",
          "iopub.status.idle": "2021-03-01T19:07:49.012780Z",
          "shell.execute_reply": "2021-03-01T19:07:49.013206Z"
        },
        "papermill": {
          "duration": 0.029767,
          "end_time": "2021-03-01T19:07:49.013347",
          "exception": false,
          "start_time": "2021-03-01T19:07:48.983580",
          "status": "completed"
        },
        "tags": [],
        "id": "3DNmku4kVFci"
      },
      "source": [
        "\n",
        "def clean_text(text):\n",
        "    text = text.lower()\n",
        "    text = re.sub(r\"what's\", \"what is \", text)\n",
        "    text = re.sub(r\"\\'s\", \" \", text)\n",
        "    text = re.sub(r\"\\'ve\", \" have \", text)\n",
        "    text = re.sub(r\"can't\", \"can not \", text)\n",
        "    text = re.sub(r\"n't\", \" not \", text)\n",
        "    text = re.sub(r\"i'm\", \"i am \", text)\n",
        "    text = re.sub(r\"\\'re\", \" are \", text)\n",
        "    text = re.sub(r\"\\'d\", \" would \", text)\n",
        "    text = re.sub(r\"\\'ll\", \" will \", text)\n",
        "    text = re.sub(r\"\\'scuse\", \" excuse \", text)\n",
        "    text = re.sub('\\W', ' ', text)\n",
        "    text = re.sub('\\s+', ' ', text)\n",
        "    text = text.strip(' ')\n",
        "    return text"
      ],
      "execution_count": null,
      "outputs": []
    },
    {
      "cell_type": "code",
      "metadata": {
        "execution": {
          "iopub.execute_input": "2021-03-01T19:07:49.059595Z",
          "iopub.status.busy": "2021-03-01T19:07:49.059039Z",
          "iopub.status.idle": "2021-03-01T19:08:01.968809Z",
          "shell.execute_reply": "2021-03-01T19:08:01.969576Z"
        },
        "papermill": {
          "duration": 12.936953,
          "end_time": "2021-03-01T19:08:01.969842",
          "exception": false,
          "start_time": "2021-03-01T19:07:49.032889",
          "status": "completed"
        },
        "tags": [],
        "id": "pef1imOUVFci"
      },
      "source": [
        "df['comment_text'] = df['comment_text'].map(lambda com : clean_text(com))"
      ],
      "execution_count": null,
      "outputs": []
    },
    {
      "cell_type": "code",
      "metadata": {
        "execution": {
          "iopub.execute_input": "2021-03-01T19:08:02.053174Z",
          "iopub.status.busy": "2021-03-01T19:08:02.052238Z",
          "iopub.status.idle": "2021-03-01T19:08:02.055780Z",
          "shell.execute_reply": "2021-03-01T19:08:02.053905Z"
        },
        "papermill": {
          "duration": 0.040371,
          "end_time": "2021-03-01T19:08:02.055939",
          "exception": false,
          "start_time": "2021-03-01T19:08:02.015568",
          "status": "completed"
        },
        "tags": [],
        "id": "0N004Va4VFcj",
        "outputId": "abf4cc8e-068e-4a90-c5d9-a42f2d2736cf"
      },
      "source": [
        "df['comment_text'][0]"
      ],
      "execution_count": null,
      "outputs": [
        {
          "output_type": "execute_result",
          "data": {
            "text/plain": [
              "'explanation why the edits made under my username hardcore metallica fan were reverted they were not vandalisms just closure on some gas after i voted at new york dolls fac and please do not remove the template from the talk page since i am retired now 89 205 38 27'"
            ]
          },
          "metadata": {
            "tags": []
          },
          "execution_count": 14
        }
      ]
    },
    {
      "cell_type": "code",
      "metadata": {
        "execution": {
          "iopub.execute_input": "2021-03-01T19:08:02.134947Z",
          "iopub.status.busy": "2021-03-01T19:08:02.134189Z",
          "iopub.status.idle": "2021-03-01T19:08:02.175968Z",
          "shell.execute_reply": "2021-03-01T19:08:02.177047Z"
        },
        "papermill": {
          "duration": 0.089236,
          "end_time": "2021-03-01T19:08:02.177252",
          "exception": false,
          "start_time": "2021-03-01T19:08:02.088016",
          "status": "completed"
        },
        "tags": [],
        "id": "7yli3roEVFcj"
      },
      "source": [
        "train, test = train_test_split(df, random_state=42, test_size=0.20, shuffle=True)"
      ],
      "execution_count": null,
      "outputs": []
    },
    {
      "cell_type": "code",
      "metadata": {
        "execution": {
          "iopub.execute_input": "2021-03-01T19:08:02.259079Z",
          "iopub.status.busy": "2021-03-01T19:08:02.258181Z",
          "iopub.status.idle": "2021-03-01T19:08:02.262593Z",
          "shell.execute_reply": "2021-03-01T19:08:02.259804Z"
        },
        "papermill": {
          "duration": 0.049175,
          "end_time": "2021-03-01T19:08:02.262849",
          "exception": false,
          "start_time": "2021-03-01T19:08:02.213674",
          "status": "completed"
        },
        "tags": [],
        "id": "R0b6RrdyVFcj",
        "outputId": "fa30b5bb-ce13-4eff-8237-f07be86dbdb0"
      },
      "source": [
        "X_train = train.comment_text\n",
        "X_test = test.comment_text\n",
        "print(X_train.shape)\n",
        "print(X_test.shape)"
      ],
      "execution_count": null,
      "outputs": [
        {
          "output_type": "stream",
          "text": [
            "(127656,)\n",
            "(31915,)\n"
          ],
          "name": "stdout"
        }
      ]
    },
    {
      "cell_type": "code",
      "metadata": {
        "execution": {
          "iopub.execute_input": "2021-03-01T19:08:02.476729Z",
          "iopub.status.busy": "2021-03-01T19:08:02.475816Z",
          "iopub.status.idle": "2021-03-01T19:08:02.480390Z",
          "shell.execute_reply": "2021-03-01T19:08:02.483348Z"
        },
        "papermill": {
          "duration": 0.185909,
          "end_time": "2021-03-01T19:08:02.483824",
          "exception": false,
          "start_time": "2021-03-01T19:08:02.297915",
          "status": "completed"
        },
        "tags": [],
        "id": "RmlU36WnVFck",
        "outputId": "ec215fb3-4ff5-4e73-b200-033638de44f3"
      },
      "source": [
        "print(X_train)"
      ],
      "execution_count": null,
      "outputs": [
        {
          "output_type": "stream",
          "text": [
            "140030    grandma terri should burn in trash grandma ter...\n",
            "159124    9 may 2009 utc it would be easiest if you were...\n",
            "60006     the objectivity of this discussion is doubtful...\n",
            "65432                          shelly shock shelly shock is\n",
            "154979    i do not care refer to ong teng cheong talk pa...\n",
            "                                ...                        \n",
            "119879    redirect talk john loveday experimental physicist\n",
            "103694     back it up post the line here with the reference\n",
            "131932    i wo not stop that sometimes germanic equals g...\n",
            "146867    british bands i think you have mistaken scotti...\n",
            "121958    you are wrong justin thompson is mentioned in ...\n",
            "Name: comment_text, Length: 127656, dtype: object\n"
          ],
          "name": "stdout"
        }
      ]
    },
    {
      "cell_type": "code",
      "metadata": {
        "execution": {
          "iopub.execute_input": "2021-03-01T19:08:02.560385Z",
          "iopub.status.busy": "2021-03-01T19:08:02.559702Z",
          "iopub.status.idle": "2021-03-01T19:08:02.572259Z",
          "shell.execute_reply": "2021-03-01T19:08:02.573187Z"
        },
        "papermill": {
          "duration": 0.055407,
          "end_time": "2021-03-01T19:08:02.573383",
          "exception": false,
          "start_time": "2021-03-01T19:08:02.517976",
          "status": "completed"
        },
        "tags": [],
        "id": "4ojR9kbHVFck",
        "outputId": "62f00948-f4d7-482d-db07-5a375a4ee6e3"
      },
      "source": [
        "y_train = train.drop(['id', 'comment_text'], axis=1)\n",
        "#y_train.columns = [''] * len(y_train.columns)\n",
        "y_test = test.drop(['id', 'comment_text'], axis=1)\n",
        "print(y_train)"
      ],
      "execution_count": null,
      "outputs": [
        {
          "output_type": "stream",
          "text": [
            "        toxic  severe_toxic  obscene  threat  insult  identity_hate  none\n",
            "140030      1             0        0       0       0              0     0\n",
            "159124      0             0        0       0       0              0     1\n",
            "60006       0             0        0       0       0              0     1\n",
            "65432       0             0        0       0       0              0     1\n",
            "154979      0             0        0       0       0              0     1\n",
            "...       ...           ...      ...     ...     ...            ...   ...\n",
            "119879      0             0        0       0       0              0     1\n",
            "103694      0             0        0       0       0              0     1\n",
            "131932      1             0        0       0       0              0     0\n",
            "146867      0             0        0       0       0              0     1\n",
            "121958      0             0        0       0       0              0     1\n",
            "\n",
            "[127656 rows x 7 columns]\n"
          ],
          "name": "stdout"
        }
      ]
    },
    {
      "cell_type": "code",
      "metadata": {
        "execution": {
          "iopub.execute_input": "2021-03-01T19:08:02.647547Z",
          "iopub.status.busy": "2021-03-01T19:08:02.646768Z",
          "iopub.status.idle": "2021-03-01T19:08:02.650406Z",
          "shell.execute_reply": "2021-03-01T19:08:02.650982Z"
        },
        "papermill": {
          "duration": 0.044949,
          "end_time": "2021-03-01T19:08:02.651179",
          "exception": false,
          "start_time": "2021-03-01T19:08:02.606230",
          "status": "completed"
        },
        "tags": [],
        "id": "qSzdRPl4VFck"
      },
      "source": [
        "NB_pipeline = Pipeline([\n",
        "                ('tfidf', TfidfVectorizer(stop_words=stop_words)),\n",
        "                ('clf', OneVsRestClassifier(MultinomialNB(\n",
        "                    fit_prior=True, class_prior=None, alpha=1e-3))),\n",
        "            ])"
      ],
      "execution_count": null,
      "outputs": []
    },
    {
      "cell_type": "code",
      "metadata": {
        "execution": {
          "iopub.execute_input": "2021-03-01T19:08:02.749815Z",
          "iopub.status.busy": "2021-03-01T19:08:02.724754Z",
          "iopub.status.idle": "2021-03-01T19:09:18.959916Z",
          "shell.execute_reply": "2021-03-01T19:09:18.960962Z"
        },
        "papermill": {
          "duration": 76.278957,
          "end_time": "2021-03-01T19:09:18.961214",
          "exception": false,
          "start_time": "2021-03-01T19:08:02.682257",
          "status": "completed"
        },
        "tags": [],
        "id": "CsH-03UmVFcl",
        "outputId": "0b53bb29-9596-45ca-fb80-608b8c4bc428"
      },
      "source": [
        "NB_pipeline = Pipeline([\n",
        "                ('tfidf', TfidfVectorizer(stop_words=stop_words)),\n",
        "                ('clf', OneVsRestClassifier(MultinomialNB(\n",
        "                    fit_prior=True, class_prior=None, alpha=1e-3))),\n",
        "            ])\n",
        "for category in categories:\n",
        "    print('... Processing {}'.format(category))\n",
        "    # train the model using X_dtm & y\n",
        "    NB_pipeline.fit(X_train, train[category])\n",
        "    # compute the testing accuracy\n",
        "    prediction = NB_pipeline.predict(X_test)\n",
        "    \n",
        "    \n",
        "    print('Test accuracy is {}'.format(accuracy_score(test[category], prediction)))"
      ],
      "execution_count": null,
      "outputs": [
        {
          "output_type": "stream",
          "text": [
            "... Processing toxic\n",
            "Test accuracy is 0.9434435218549272\n",
            "... Processing severe_toxic\n",
            "Test accuracy is 0.9893153689487701\n",
            "... Processing obscene\n",
            "Test accuracy is 0.9671001096663011\n",
            "... Processing threat\n",
            "Test accuracy is 0.9975246749177503\n",
            "... Processing insult\n",
            "Test accuracy is 0.9639041203195989\n",
            "... Processing identity_hate\n",
            "Test accuracy is 0.9898167006109979\n",
            "... Processing none\n",
            "Test accuracy is 0.9417515274949083\n"
          ],
          "name": "stdout"
        }
      ]
    },
    {
      "cell_type": "code",
      "metadata": {
        "execution": {
          "iopub.execute_input": "2021-03-01T19:09:19.055144Z",
          "iopub.status.busy": "2021-03-01T19:09:19.052881Z",
          "iopub.status.idle": "2021-03-01T19:09:19.056255Z",
          "shell.execute_reply": "2021-03-01T19:09:19.053994Z"
        },
        "papermill": {
          "duration": 0.05161,
          "end_time": "2021-03-01T19:09:19.056509",
          "exception": false,
          "start_time": "2021-03-01T19:09:19.004899",
          "status": "completed"
        },
        "tags": [],
        "id": "ZVxYWqLVVFcl"
      },
      "source": [
        "\n",
        "SVC_pipeline = Pipeline([\n",
        "                ('tfidf', TfidfVectorizer(stop_words=stop_words)),\n",
        "                ('clf', OneVsRestClassifier(LinearSVC(), n_jobs=1)),\n",
        "            ])"
      ],
      "execution_count": null,
      "outputs": []
    },
    {
      "cell_type": "code",
      "metadata": {
        "execution": {
          "iopub.execute_input": "2021-03-01T19:09:19.160502Z",
          "iopub.status.busy": "2021-03-01T19:09:19.159726Z",
          "iopub.status.idle": "2021-03-01T19:10:41.199460Z",
          "shell.execute_reply": "2021-03-01T19:10:41.200064Z"
        },
        "papermill": {
          "duration": 82.092762,
          "end_time": "2021-03-01T19:10:41.200277",
          "exception": false,
          "start_time": "2021-03-01T19:09:19.107515",
          "status": "completed"
        },
        "tags": [],
        "id": "45UDfxrWVFcl",
        "outputId": "cd2b9be8-a19b-4c68-a306-4f6fba1b94db"
      },
      "source": [
        "SVC_pipeline = Pipeline([\n",
        "                ('tfidf', TfidfVectorizer(stop_words=stop_words)),\n",
        "                ('clf', OneVsRestClassifier(LinearSVC(), n_jobs=1)),\n",
        "            ])\n",
        "for category in categories:\n",
        "    print('... Processing {}'.format(category))\n",
        "    # train the model using X_dtm & y\n",
        "    SVC_pipeline.fit(X_train, train[category])\n",
        "    # compute the testing accuracy\n",
        "    prediction = SVC_pipeline.predict(X_test)\n",
        "    print('Test accuracy is {}'.format(accuracy_score(test[category], prediction)))"
      ],
      "execution_count": null,
      "outputs": [
        {
          "output_type": "stream",
          "text": [
            "... Processing toxic\n",
            "Test accuracy is 0.9602694657684474\n",
            "... Processing severe_toxic\n",
            "Test accuracy is 0.9906626977910074\n",
            "... Processing obscene\n",
            "Test accuracy is 0.9794454018486605\n",
            "... Processing threat\n",
            "Test accuracy is 0.9976813410621964\n",
            "... Processing insult\n",
            "Test accuracy is 0.9711107629641235\n",
            "... Processing identity_hate\n",
            "Test accuracy is 0.9920726930910231\n",
            "... Processing none\n",
            "Test accuracy is 0.9606767977440075\n"
          ],
          "name": "stdout"
        }
      ]
    },
    {
      "cell_type": "code",
      "metadata": {
        "execution": {
          "iopub.execute_input": "2021-03-01T19:10:41.310026Z",
          "iopub.status.busy": "2021-03-01T19:10:41.294585Z",
          "iopub.status.idle": "2021-03-01T19:12:19.634812Z",
          "shell.execute_reply": "2021-03-01T19:12:19.635348Z"
        },
        "papermill": {
          "duration": 98.40842,
          "end_time": "2021-03-01T19:12:19.635527",
          "exception": false,
          "start_time": "2021-03-01T19:10:41.227107",
          "status": "completed"
        },
        "tags": [],
        "id": "sQT9b0EEVFcm",
        "outputId": "61fc4c15-854e-4bf1-fcb2-c5154e3fecd1"
      },
      "source": [
        "LogReg_pipeline = Pipeline([\n",
        "                ('tfidf', TfidfVectorizer(stop_words=stop_words)),\n",
        "                ('clf', OneVsRestClassifier(LogisticRegression(solver='sag', C=7), n_jobs=1)),\n",
        "            ])\n",
        "for category in categories:\n",
        "    print('... Processing {}'.format(category))\n",
        "    # train the model using X_dtm & y\n",
        "    LogReg_pipeline.fit(X_train, train[category])\n",
        "    # compute the testing accuracy\n",
        "    prediction = LogReg_pipeline.predict(X_test)\n",
        "    print('Test accuracy is {}'.format(accuracy_score(test[category], prediction)))"
      ],
      "execution_count": null,
      "outputs": [
        {
          "output_type": "stream",
          "text": [
            "... Processing toxic\n",
            "Test accuracy is 0.9601127996240012\n",
            "... Processing severe_toxic\n",
            "Test accuracy is 0.9907253642487859\n",
            "... Processing obscene\n",
            "Test accuracy is 0.9791947360175466\n",
            "... Processing threat\n",
            "Test accuracy is 0.9976500078333073\n",
            "... Processing insult\n",
            "Test accuracy is 0.9708600971330096\n",
            "... Processing identity_hate\n",
            "Test accuracy is 0.9918846937176876\n",
            "... Processing none\n",
            "Test accuracy is 0.9603007989973367\n"
          ],
          "name": "stdout"
        }
      ]
    },
    {
      "cell_type": "code",
      "metadata": {
        "execution": {
          "iopub.execute_input": "2021-03-01T19:12:19.697027Z",
          "iopub.status.busy": "2021-03-01T19:12:19.696329Z",
          "iopub.status.idle": "2021-03-01T19:12:19.811553Z",
          "shell.execute_reply": "2021-03-01T19:12:19.811023Z"
        },
        "papermill": {
          "duration": 0.147615,
          "end_time": "2021-03-01T19:12:19.811690",
          "exception": false,
          "start_time": "2021-03-01T19:12:19.664075",
          "status": "completed"
        },
        "tags": [],
        "id": "ZpRc18fAVFcm"
      },
      "source": [
        "from sklearn.tree import DecisionTreeClassifier\n",
        "from sklearn.ensemble import RandomForestClassifier"
      ],
      "execution_count": null,
      "outputs": []
    },
    {
      "cell_type": "code",
      "metadata": {
        "execution": {
          "iopub.execute_input": "2021-03-01T19:12:19.921049Z",
          "iopub.status.busy": "2021-03-01T19:12:19.910827Z",
          "iopub.status.idle": "2021-03-01T19:13:52.398707Z",
          "shell.execute_reply": "2021-03-01T19:13:52.399239Z"
        },
        "papermill": {
          "duration": 92.559164,
          "end_time": "2021-03-01T19:13:52.399420",
          "exception": false,
          "start_time": "2021-03-01T19:12:19.840256",
          "status": "completed"
        },
        "tags": [],
        "id": "AQFpiMriVFcn",
        "outputId": "67ab9e3d-74db-492c-9c11-21dc80917865"
      },
      "source": [
        "RanFor_pipeline = Pipeline([\n",
        "                ('tfidf', TfidfVectorizer(stop_words=stop_words)),\n",
        "                ('clf', OneVsRestClassifier(RandomForestClassifier(max_depth= 15, n_estimators=40), n_jobs=1)),\n",
        "            ])\n",
        "for category in categories:\n",
        "    print('... Processing {}'.format(category))\n",
        "    # train the model using X_dtm & y\n",
        "    RanFor_pipeline.fit(X_train, train[category])\n",
        "    # compute the testing accuracy\n",
        "    prediction = RanFor_pipeline.predict(X_test)\n",
        "    print('Test accuracy is {}'.format(accuracy_score(test[category], prediction)))"
      ],
      "execution_count": null,
      "outputs": [
        {
          "output_type": "stream",
          "text": [
            "... Processing toxic\n",
            "Test accuracy is 0.9042456525144916\n",
            "... Processing severe_toxic\n",
            "Test accuracy is 0.989942033526555\n",
            "... Processing obscene\n",
            "Test accuracy is 0.9462635124549584\n",
            "... Processing threat\n",
            "Test accuracy is 0.9976813410621964\n",
            "... Processing insult\n",
            "Test accuracy is 0.9494281685727715\n",
            "... Processing identity_hate\n",
            "Test accuracy is 0.9907880307065643\n",
            "... Processing none\n",
            "Test accuracy is 0.8983863387122043\n"
          ],
          "name": "stdout"
        }
      ]
    },
    {
      "cell_type": "code",
      "metadata": {
        "execution": {
          "iopub.execute_input": "2021-03-01T19:13:52.507411Z",
          "iopub.status.busy": "2021-03-01T19:13:52.502495Z",
          "iopub.status.idle": "2021-03-01T19:16:52.819481Z",
          "shell.execute_reply": "2021-03-01T19:16:52.820078Z"
        },
        "papermill": {
          "duration": 180.390046,
          "end_time": "2021-03-01T19:16:52.820283",
          "exception": false,
          "start_time": "2021-03-01T19:13:52.430237",
          "status": "completed"
        },
        "tags": [],
        "id": "xaRQUkH6VFcn",
        "outputId": "b9cd9af0-ff43-4175-f6ac-b88649753b70"
      },
      "source": [
        "DecTree_pipeline = Pipeline([\n",
        "                ('tfidf', TfidfVectorizer(stop_words=stop_words)),\n",
        "                ('clf', OneVsRestClassifier(DecisionTreeClassifier(max_depth = 25), n_jobs=1)),\n",
        "            ])\n",
        "for category in categories:\n",
        "    print('... Processing {}'.format(category))\n",
        "    # train the model using X_dtm & y\n",
        "    DecTree_pipeline.fit(X_train, train[category])\n",
        "    # compute the testing accuracy\n",
        "    prediction = DecTree_pipeline.predict(X_test)\n",
        "    print('Test accuracy is {}'.format(accuracy_score(test[category], prediction)))"
      ],
      "execution_count": null,
      "outputs": [
        {
          "output_type": "stream",
          "text": [
            "... Processing toxic\n",
            "Test accuracy is 0.9460128466238445\n",
            "... Processing severe_toxic\n",
            "Test accuracy is 0.9884380385398716\n",
            "... Processing obscene\n",
            "Test accuracy is 0.9772834090553032\n",
            "... Processing threat\n",
            "Test accuracy is 0.9973053423155256\n",
            "... Processing insult\n",
            "Test accuracy is 0.9652827823907254\n",
            "... Processing identity_hate\n",
            "Test accuracy is 0.991665361115463\n",
            "... Processing none\n",
            "Test accuracy is 0.944477518408272\n"
          ],
          "name": "stdout"
        }
      ]
    }
  ]
}